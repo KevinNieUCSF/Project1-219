{
 "cells": [
  {
   "cell_type": "markdown",
   "metadata": {},
   "source": [
    "# Calculate the ddG of making each mutation at position 501 in the Spike protein, for the Spike-Ace2 Complex\n",
    "\n",
    "(Using Chris Mathy's ddg_exercise.ipynb as a template)"
   ]
  },
  {
   "cell_type": "markdown",
   "metadata": {},
   "source": [
    "As always, we start by initializing our PyRosetta session with an `init` call."
   ]
  },
  {
   "cell_type": "code",
   "execution_count": 1,
   "metadata": {
    "scrolled": true,
    "tags": [
     "remove_output"
    ]
   },
   "outputs": [
    {
     "name": "stdout",
     "output_type": "stream",
     "text": [
      "PyRosetta-4 2021 [Rosetta PyRosetta4.conda.mac.cxx11thread.serialization.python37.Release 2021.12+release.ed6a5560506cfd327d4a6a3e2c9b0c9f6f4a6535 2021-03-26T16:09:25] retrieved from: http://www.pyrosetta.org\n",
      "(C) Copyright Rosetta Commons Member Institutions. Created in JHU by Sergey Lyskov and PyRosetta Team.\n",
      "\u001b[0mcore.init: {0} \u001b[0mChecking for fconfig files in pwd and ./rosetta/flags\n",
      "\u001b[0mcore.init: {0} \u001b[0mRosetta version: PyRosetta4.conda.mac.cxx11thread.serialization.python37.Release r277 2021.12+release.ed6a5560506 ed6a5560506cfd327d4a6a3e2c9b0c9f6f4a6535 http://www.pyrosetta.org 2021-03-26T16:09:25\n",
      "\u001b[0mcore.init: {0} \u001b[0mcommand: PyRosetta -ex1 -ex2 -score:weights ref2015_cart -use_input_sc -ignore_unrecognized_res -database /Users/maxinebi/miniconda3/envs/proteindesign/lib/python3.7/site-packages/pyrosetta/database\n",
      "\u001b[0mbasic.random.init_random_generator: {0} \u001b[0m'RNG device' seed mode, using '/dev/urandom', seed=2033419683 seed_offset=0 real_seed=2033419683 thread_index=0\n",
      "\u001b[0mbasic.random.init_random_generator: {0} \u001b[0mRandomGenerator:init: Normal mode, seed=2033419683 RG_type=mt19937\n",
      "\u001b[0mcore.scoring.etable: {0} \u001b[0mStarting energy table calculation\n",
      "\u001b[0mcore.scoring.etable: {0} \u001b[0msmooth_etable: changing atr/rep split to bottom of energy well\n",
      "\u001b[0mcore.scoring.etable: {0} \u001b[0msmooth_etable: spline smoothing lj etables (maxdis = 6)\n",
      "\u001b[0mcore.scoring.etable: {0} \u001b[0msmooth_etable: spline smoothing solvation etables (max_dis = 6)\n",
      "\u001b[0mcore.scoring.etable: {0} \u001b[0mFinished calculating energy tables.\n",
      "\u001b[0mbasic.io.database: {0} \u001b[0mDatabase file opened: scoring/score_functions/hbonds/ref2015_params/HBPoly1D.csv\n",
      "\u001b[0mbasic.io.database: {0} \u001b[0mDatabase file opened: scoring/score_functions/hbonds/ref2015_params/HBFadeIntervals.csv\n",
      "\u001b[0mbasic.io.database: {0} \u001b[0mDatabase file opened: scoring/score_functions/hbonds/ref2015_params/HBEval.csv\n",
      "\u001b[0mbasic.io.database: {0} \u001b[0mDatabase file opened: scoring/score_functions/hbonds/ref2015_params/DonStrength.csv\n",
      "\u001b[0mbasic.io.database: {0} \u001b[0mDatabase file opened: scoring/score_functions/hbonds/ref2015_params/AccStrength.csv\n",
      "\u001b[0mcore.chemical.GlobalResidueTypeSet: {0} \u001b[0mFinished initializing fa_standard residue type set.  Created 984 residue types\n",
      "\u001b[0mcore.chemical.GlobalResidueTypeSet: {0} \u001b[0mTotal time to initialize 0.99227 seconds.\n",
      "\u001b[0mbasic.io.database: {0} \u001b[0mDatabase file opened: scoring/score_functions/rama/fd/all.ramaProb\n",
      "\u001b[0mbasic.io.database: {0} \u001b[0mDatabase file opened: scoring/score_functions/rama/fd/prepro.ramaProb\n",
      "\u001b[0mbasic.io.database: {0} \u001b[0mDatabase file opened: scoring/score_functions/omega/omega_ppdep.all.txt\n",
      "\u001b[0mbasic.io.database: {0} \u001b[0mDatabase file opened: scoring/score_functions/omega/omega_ppdep.gly.txt\n",
      "\u001b[0mbasic.io.database: {0} \u001b[0mDatabase file opened: scoring/score_functions/omega/omega_ppdep.pro.txt\n",
      "\u001b[0mbasic.io.database: {0} \u001b[0mDatabase file opened: scoring/score_functions/omega/omega_ppdep.valile.txt\n",
      "\u001b[0mbasic.io.database: {0} \u001b[0mDatabase file opened: scoring/score_functions/P_AA_pp/P_AA\n",
      "\u001b[0mbasic.io.database: {0} \u001b[0mDatabase file opened: scoring/score_functions/P_AA_pp/P_AA_n\n",
      "\u001b[0mcore.scoring.P_AA: {0} \u001b[0mshapovalov_lib::shap_p_aa_pp_smooth_level of 1( aka low_smooth ) got activated.\n",
      "\u001b[0mbasic.io.database: {0} \u001b[0mDatabase file opened: scoring/score_functions/P_AA_pp/shapovalov/10deg/kappa131/a20.prop\n",
      "\u001b[0mcore.energy_methods.CartesianBondedEnergy: {0} \u001b[0mInitializing IdealParametersDatabase with default Ks=300 , 80 , 80 , 10 , 80\n",
      "\u001b[0mbasic.io.database: {0} \u001b[0mDatabase file opened: scoring/score_functions/bondlength_bondangle/default-lengths.txt\n",
      "\u001b[0mcore.energy_methods.CartesianBondedEnergy: {0} \u001b[0mRead 759 bb-independent lengths.\n",
      "\u001b[0mbasic.io.database: {0} \u001b[0mDatabase file opened: scoring/score_functions/bondlength_bondangle/default-angles.txt\n",
      "\u001b[0mcore.energy_methods.CartesianBondedEnergy: {0} \u001b[0mRead 1434 bb-independent angles.\n",
      "\u001b[0mbasic.io.database: {0} \u001b[0mDatabase file opened: scoring/score_functions/bondlength_bondangle/default-torsions.txt\n",
      "\u001b[0mcore.energy_methods.CartesianBondedEnergy: {0} \u001b[0mRead 1 bb-independent torsions.\n",
      "\u001b[0mbasic.io.database: {0} \u001b[0mDatabase file opened: scoring/score_functions/bondlength_bondangle/default-improper.txt\n",
      "\u001b[0mcore.energy_methods.CartesianBondedEnergy: {0} \u001b[0mRead 529 bb-independent improper tors.\n"
     ]
    }
   ],
   "source": [
    "import os\n",
    "import re\n",
    "import pandas as pd\n",
    "import numpy as np\n",
    "import scipy as sp\n",
    "import matplotlib.pyplot as plt\n",
    "import seaborn as sns\n",
    "\n",
    "import pyrosetta\n",
    "from pyrosetta import *\n",
    "pyrosetta.init('''\n",
    "               -ex1\n",
    "               -ex2\n",
    "               -score:weights ref2015_cart\n",
    "               -use_input_sc\n",
    "               -ignore_unrecognized_res           \n",
    "               ''')\n",
    "from pyrosetta.rosetta.core.pack.task import TaskFactory\n",
    "from pyrosetta.rosetta.core.pack.task import operation\n",
    "from pyrosetta.rosetta.core.select import residue_selector\n",
    "\n",
    "scorefxn = create_score_function('ref2015_cart')"
   ]
  },
  {
   "cell_type": "markdown",
   "metadata": {},
   "source": [
    "### Make a Pose from our PDB\n",
    "\n",
    "Kevin made a 'clean' version of the PDB file containing the WT Spike bound to Ace2. Located in: ```Project1-219/Kevin/Spike_ace2.pdb```  \n",
    "Kevin renamed this 'clean' version to 6M17_clean.pdb.  \n",
    "The full PDB file is 6M17."
   ]
  },
  {
   "cell_type": "code",
   "execution_count": 2,
   "metadata": {
    "scrolled": true
   },
   "outputs": [
    {
     "name": "stdout",
     "output_type": "stream",
     "text": [
      "\u001b[0mcore.import_pose.import_pose: {0} \u001b[0mFile '../Kevin/6M17_clean.pdb' automatically determined to be of type PDB\n",
      "\u001b[0mcore.conformation.Conformation: {0} \u001b[0m\u001b[1m[ WARNING ]\u001b[0m missing heavyatom:  OXT on residue ARG:CtermProteinFull 748\n",
      "\u001b[0mcore.conformation.Conformation: {0} \u001b[0m\u001b[1m[ WARNING ]\u001b[0m missing heavyatom:  OXT on residue LEU:CtermProteinFull 931\n",
      "\u001b[0mcore.conformation.Conformation: {0} \u001b[0mFound disulfide between residues 324 341\n",
      "\u001b[0mcore.conformation.Conformation: {0} \u001b[0mcurrent variant for 324 CYS\n",
      "\u001b[0mcore.conformation.Conformation: {0} \u001b[0mcurrent variant for 341 CYS\n",
      "\u001b[0mcore.conformation.Conformation: {0} \u001b[0mcurrent variant for 324 CYD\n",
      "\u001b[0mcore.conformation.Conformation: {0} \u001b[0mcurrent variant for 341 CYD\n",
      "\u001b[0mcore.conformation.Conformation: {0} \u001b[0mFound disulfide between residues 510 522\n",
      "\u001b[0mcore.conformation.Conformation: {0} \u001b[0mcurrent variant for 510 CYS\n",
      "\u001b[0mcore.conformation.Conformation: {0} \u001b[0mcurrent variant for 522 CYS\n",
      "\u001b[0mcore.conformation.Conformation: {0} \u001b[0mcurrent variant for 510 CYD\n",
      "\u001b[0mcore.conformation.Conformation: {0} \u001b[0mcurrent variant for 522 CYD\n",
      "\u001b[0mcore.conformation.Conformation: {0} \u001b[0mFound disulfide between residues 792 845\n",
      "\u001b[0mcore.conformation.Conformation: {0} \u001b[0mcurrent variant for 792 CYS\n",
      "\u001b[0mcore.conformation.Conformation: {0} \u001b[0mcurrent variant for 845 CYS\n",
      "\u001b[0mcore.conformation.Conformation: {0} \u001b[0mcurrent variant for 792 CYD\n",
      "\u001b[0mcore.conformation.Conformation: {0} \u001b[0mcurrent variant for 845 CYD\n",
      "\u001b[0mcore.conformation.Conformation: {0} \u001b[0mFound disulfide between residues 893 901\n",
      "\u001b[0mcore.conformation.Conformation: {0} \u001b[0mcurrent variant for 893 CYS\n",
      "\u001b[0mcore.conformation.Conformation: {0} \u001b[0mcurrent variant for 901 CYS\n",
      "\u001b[0mcore.conformation.Conformation: {0} \u001b[0mcurrent variant for 893 CYD\n",
      "\u001b[0mcore.conformation.Conformation: {0} \u001b[0mcurrent variant for 901 CYD\n"
     ]
    }
   ],
   "source": [
    "spike_ace2_clean = '../Kevin/6M17_clean.pdb'\n",
    "\n",
    "pose = pose_from_pdb(spike_ace2_clean)\n",
    "pose.pdb_info().name('6M17_clean')"
   ]
  },
  {
   "cell_type": "markdown",
   "metadata": {},
   "source": [
    "### Relax our Pose\n",
    "\n",
    "Copied code from \"relax_1L63.py\" in ddg_exercise to \"relax_Spike_Ace2.py\" and changed the path to the pdb file.  \n",
    "Should output a pdb, \"Spike_Ace2_relaxed.pdb\" --> Renamed to \"6M17_relaxed.pdb\""
   ]
  },
  {
   "cell_type": "code",
   "execution_count": 3,
   "metadata": {
    "scrolled": true
   },
   "outputs": [
    {
     "name": "stdout",
     "output_type": "stream",
     "text": [
      "\u001b[0mcore.import_pose.import_pose: {0} \u001b[0mFile './6M17_relaxed.pdb' automatically determined to be of type PDB\n",
      "\u001b[0mcore.conformation.Conformation: {0} \u001b[0mFound disulfide between residues 324 341\n",
      "\u001b[0mcore.conformation.Conformation: {0} \u001b[0mcurrent variant for 324 CYS\n",
      "\u001b[0mcore.conformation.Conformation: {0} \u001b[0mcurrent variant for 341 CYS\n",
      "\u001b[0mcore.conformation.Conformation: {0} \u001b[0mcurrent variant for 324 CYD\n",
      "\u001b[0mcore.conformation.Conformation: {0} \u001b[0mcurrent variant for 341 CYD\n",
      "\u001b[0mcore.conformation.Conformation: {0} \u001b[0mFound disulfide between residues 792 845\n",
      "\u001b[0mcore.conformation.Conformation: {0} \u001b[0mcurrent variant for 792 CYS\n",
      "\u001b[0mcore.conformation.Conformation: {0} \u001b[0mcurrent variant for 845 CYS\n",
      "\u001b[0mcore.conformation.Conformation: {0} \u001b[0mcurrent variant for 792 CYD\n",
      "\u001b[0mcore.conformation.Conformation: {0} \u001b[0mcurrent variant for 845 CYD\n",
      "\u001b[0mcore.conformation.Conformation: {0} \u001b[0mFound disulfide between residues 893 901\n",
      "\u001b[0mcore.conformation.Conformation: {0} \u001b[0mcurrent variant for 893 CYS\n",
      "\u001b[0mcore.conformation.Conformation: {0} \u001b[0mcurrent variant for 901 CYS\n",
      "\u001b[0mcore.conformation.Conformation: {0} \u001b[0mcurrent variant for 893 CYD\n",
      "\u001b[0mcore.conformation.Conformation: {0} \u001b[0mcurrent variant for 901 CYD\n",
      "\u001b[0mcore.conformation.Conformation: {0} \u001b[0mFound disulfide between residues 510 522\n",
      "\u001b[0mcore.conformation.Conformation: {0} \u001b[0mcurrent variant for 510 CYS\n",
      "\u001b[0mcore.conformation.Conformation: {0} \u001b[0mcurrent variant for 522 CYS\n",
      "\u001b[0mcore.conformation.Conformation: {0} \u001b[0mcurrent variant for 510 CYD\n",
      "\u001b[0mcore.conformation.Conformation: {0} \u001b[0mcurrent variant for 522 CYD\n"
     ]
    }
   ],
   "source": [
    "spike_ace2_relaxed = './6M17_relaxed.pdb'\n",
    "\n",
    "pose_relaxed = pose_from_pdb(spike_ace2_relaxed)\n",
    "pose_relaxed.pdb_info().name('6M17_relaxed')"
   ]
  },
  {
   "cell_type": "code",
   "execution_count": 18,
   "metadata": {},
   "outputs": [],
   "source": [
    "pmm = PyMOLMover()\n",
    "pmm.apply(pose_relaxed)"
   ]
  },
  {
   "cell_type": "markdown",
   "metadata": {},
   "source": [
    "In PyMOL, copy and paste the following commands to show the core packing around Asn 501.\n",
    "\n",
    "`util.cbaw 6M17_relaxed`\n",
    "\n",
    "`select core, 6M17_relaxed and br. (sc.  within 3 of (resi 501 and chain F and sc.))`\n",
    "\n",
    "`util.cbac core`\n",
    "\n",
    "`util.cbas core and resi 501 and chain F`\n",
    "\n",
    "`show spheres, core`\n",
    "\n",
    "`set_view (\\\n",
    "     0.749474406,   -0.659760594,   -0.054414708,\\\n",
    "    -0.335082650,   -0.448958933,    0.828328848,\\\n",
    "    -0.570924938,   -0.602581918,   -0.557566702,\\\n",
    "     0.000094488,    0.001106668,  -85.698837280,\\\n",
    "    30.798748016,    4.481562614,    6.916054726,\\\n",
    "    49.036270142,  122.386810303,  -20.000000000 )`\n",
    "\n",
    "`deselect`\n",
    "\n",
    "You should see N501 in pink in the center of the frame, well packed in the core of the protein. \n",
    "\n",
    "Now run the following commands to show sidechains as sticks instead of as spheres:\n",
    "\n",
    "`hide spheres, core`\n",
    "\n",
    "`show sticks, core and not hydro`\n",
    "\n",
    "It should now be much easier to see how each of the sidechains in the residues shown are pointed inward to form the hydrophobic core of the protein. \n",
    "\n",
    "Next, we are going to compute the change in energy for when we mutate N501Y."
   ]
  },
  {
   "cell_type": "code",
   "execution_count": 5,
   "metadata": {},
   "outputs": [],
   "source": [
    "pose_N501Y = pose_relaxed.clone()\n",
    "pose_N501Y.pdb_info().name('N501Y')\n",
    "\n",
    "mutate_mover = pyrosetta.rosetta.protocols.simple_moves.MutateResidue()\n",
    "mutate_mover.set_target('501F') # Chain F\n",
    "mutate_mover.set_res_name('SER')\n",
    "mutation_1_letter = 'S'\n",
    "mutate_mover.apply(pose_N501Y)"
   ]
  },
  {
   "cell_type": "code",
   "execution_count": 6,
   "metadata": {},
   "outputs": [
    {
     "data": {
      "text/plain": [
       "914"
      ]
     },
     "execution_count": 6,
     "metadata": {},
     "output_type": "execute_result"
    }
   ],
   "source": [
    "# Note: This is how to convert between pdb and rosetta residue numbering\n",
    "\n",
    "N501_resnum = pose_N501Y.pdb_info().pdb2pose(chain='F',res=501)\n",
    "N501_resnum\n",
    "# N501 is residue at index 914 in pyrosetta"
   ]
  },
  {
   "cell_type": "code",
   "execution_count": 7,
   "metadata": {},
   "outputs": [
    {
     "name": "stdout",
     "output_type": "stream",
     "text": [
      "\u001b[0mcore.energy_methods.CartesianBondedEnergy: {0} \u001b[0mCreating new peptide-bonded energy container (931)\n",
      "\u001b[0mbasic.io.database: {0} \u001b[0mDatabase file opened: scoring/score_functions/elec_cp_reps.dat\n",
      "\u001b[0mcore.scoring.elec.util: {0} \u001b[0mRead 40 countpair representative atoms\n",
      "\u001b[0mcore.pack.dunbrack.RotamerLibrary: {0} \u001b[0mshapovalov_lib_fixes_enable option is true.\n",
      "\u001b[0mcore.pack.dunbrack.RotamerLibrary: {0} \u001b[0mshapovalov_lib::shap_dun10_smooth_level of 1( aka lowest_smooth ) got activated.\n",
      "\u001b[0mcore.pack.dunbrack.RotamerLibrary: {0} \u001b[0mBinary rotamer library selected: /Users/maxinebi/miniconda3/envs/proteindesign/lib/python3.7/site-packages/pyrosetta/database/rotamer/shapovalov/StpDwn_0-0-0/Dunbrack10.lib.bin\n",
      "\u001b[0mcore.pack.dunbrack.RotamerLibrary: {0} \u001b[0mUsing Dunbrack library binary file '/Users/maxinebi/miniconda3/envs/proteindesign/lib/python3.7/site-packages/pyrosetta/database/rotamer/shapovalov/StpDwn_0-0-0/Dunbrack10.lib.bin'.\n",
      "\u001b[0mcore.pack.dunbrack.RotamerLibrary: {0} \u001b[0mDunbrack 2010 library took 0.237238 seconds to load from binary\n",
      "\u001b[0mcore.energy_methods.CartesianBondedEnergy: {0} \u001b[0mCreating new peptide-bonded energy container (931)\n",
      "\n",
      "WT score: -2940.9505527784117\n",
      "\n",
      "N501Y score: -2937.5597148804927\n"
     ]
    }
   ],
   "source": [
    "# score WT and N501Y mutant (before repacking)\n",
    "WT_score = scorefxn(pose_relaxed)\n",
    "N501Y_score = scorefxn(pose_N501Y)\n",
    "\n",
    "print('\\nWT score: ' + str(WT_score))\n",
    "print('\\nN501Y score: ' + str(N501Y_score))"
   ]
  },
  {
   "cell_type": "markdown",
   "metadata": {},
   "source": [
    "Our Rosetta energy score is ~ 430 (~ 110 kcal/mol) REU worse for the mutant, but this is before relaxing the structure with the mutation.  \n",
    "  \n",
    "Let's see what Rosetta energy terms changed:"
   ]
  },
  {
   "cell_type": "code",
   "execution_count": 8,
   "metadata": {},
   "outputs": [
    {
     "data": {
      "text/plain": [
       "fa_atr                 5.384694\n",
       "fa_rep                -0.654752\n",
       "fa_sol                -4.175780\n",
       "fa_intra_rep          -0.646876\n",
       "fa_intra_sol_xover4   -0.194525\n",
       "lk_ball_wtd            0.045029\n",
       "fa_elec                1.666854\n",
       "hbond_sr_bb            0.000000\n",
       "hbond_lr_bb            0.000000\n",
       "hbond_bb_sc            0.837584\n",
       "hbond_sc               0.000000\n",
       "dslf_fa13              0.000000\n",
       "omega                  0.000000\n",
       "fa_dun                -1.180028\n",
       "p_aa_pp               -0.760640\n",
       "yhh_planarity          0.000000\n",
       "ref                    1.050570\n",
       "rama_prepro           -0.739496\n",
       "cart_bonded            1.502890\n",
       "total_score            3.387346\n",
       "dtype: float64"
      ]
     },
     "execution_count": 8,
     "metadata": {},
     "output_type": "execute_result"
    }
   ],
   "source": [
    "energy_table_WT = pyrosetta.bindings.energies.residue_total_energies_array(pose_relaxed.energies())\n",
    "energy_df_WT = pd.DataFrame(energy_table_WT)\n",
    "totals_by_term_WT = energy_df_WT.sum(axis=0)\n",
    "\n",
    "\n",
    "energy_table_N501Y = pyrosetta.bindings.energies.residue_total_energies_array(pose_N501Y.energies())\n",
    "energy_df_N501Y = pd.DataFrame(energy_table_N501Y)\n",
    "totals_by_term_N501Y = energy_df_N501Y.sum(axis=0)\n",
    "\n",
    "totals_by_term_N501Y - totals_by_term_WT"
   ]
  },
  {
   "cell_type": "markdown",
   "metadata": {},
   "source": [
    "As was seen in the ddg_exercise, the fa_rep term is responsible for the much higher RE score.  This is because we still need to repack the residues at the interface.  Let's repack any residues within 10 Angstroms:  \n",
    "\n",
    "# Note: I am unable to visualize the N501Y mut in Pymol"
   ]
  },
  {
   "cell_type": "code",
   "execution_count": 9,
   "metadata": {},
   "outputs": [],
   "source": [
    "# Select mutant position\n",
    "mutant_position = residue_selector.ResidueIndexSelector()\n",
    "mutant_position.set_index(914) # N501 is index 914\n",
    "\n",
    "# Select neighbor positions\n",
    "nbr_selector = residue_selector.NeighborhoodResidueSelector() \n",
    "nbr_selector.set_focus_selector(mutant_position)\n",
    "nbr_selector.set_include_focus_in_subset(True)\n",
    "nbr_selector.set_distance(10) # note default is 10, so could leave this out\n",
    "\n",
    "# Make a task factory\n",
    "tf = TaskFactory()\n",
    "tf.push_back(operation.InitializeFromCommandline())\n",
    "tf.push_back(operation.IncludeCurrent())\n",
    "tf.push_back(operation.NoRepackDisulfides())\n",
    "\n",
    "# Disable packing for all residues, then re-enable it for neigbor residues\n",
    "prevent_repacking_rlt = operation.PreventRepackingRLT()\n",
    "define_repacking = operation.OperateOnResidueSubset(prevent_repacking_rlt, nbr_selector, True )\n",
    "tf.push_back(define_repacking)\n",
    "\n",
    "# Disable design for the whole protein, since we only want to repack\n",
    "not_design = residue_selector.TrueResidueSelector()\n",
    "tf.push_back(operation.OperateOnResidueSubset(operation.RestrictToRepackingRLT(),not_design))\n",
    "\n",
    "# Uncomment this command to see whether you set up the packer correctly\n",
    "# This is useful to see what commands we're feeding in with our task factory\n",
    "# print(tf.create_task_and_apply_taskoperations(pose_L99F))  \n",
    "\n",
    "# # Create Packer\n",
    "packer = pyrosetta.rosetta.protocols.minimization_packing.PackRotamersMover()\n",
    "packer.task_factory(tf)"
   ]
  },
  {
   "cell_type": "code",
   "execution_count": 10,
   "metadata": {},
   "outputs": [
    {
     "name": "stdout",
     "output_type": "stream",
     "text": [
      "\u001b[0mprotocols.minimization_packing.PackRotamersMover: {0} \u001b[0m\u001b[1m[ WARNING ]\u001b[0m undefined ScoreFunction -- creating a default one\n",
      "\u001b[0mcore.scoring.ScoreFunctionFactory: {0} \u001b[0mSCOREFUNCTION: \u001b[32mref2015_cart\u001b[0m\n",
      "\u001b[0mcore.pack.task: {0} \u001b[0mPacker task: initialize from command line()\n",
      "\u001b[0mcore.pack.pack_rotamers: {0} \u001b[0mbuilt 1224 rotamers at 25 positions.\n",
      "\u001b[0mcore.pack.pack_rotamers: {0} \u001b[0mRequesting all available threads for interaction graph computation.\n",
      "\u001b[0mcore.pack.interaction_graph.interaction_graph_factory: {0} \u001b[0mInstantiating DensePDInteractionGraph\n",
      "\u001b[0mbasic.thread_manager.RosettaThreadManager: {?} \u001b[0mCreating a thread pool of 1 threads.\n",
      "\u001b[0mbasic.thread_manager.RosettaThreadPool: {?} \u001b[0mLaunched 0 new threads.\n",
      "\u001b[0mcore.pack.rotamer_set.RotamerSets: {0} \u001b[0mCompleted interaction graph pre-calculation in 1 available threads (1 had been requested).\n"
     ]
    }
   ],
   "source": [
    "# Run repacking\n",
    "pose_N501Y_repacked = pose_N501Y.clone()\n",
    "pose_N501Y_repacked.pdb_info().name('N501Y_repacked')\n",
    "\n",
    "packer.apply(pose_N501Y_repacked)"
   ]
  },
  {
   "cell_type": "code",
   "execution_count": 11,
   "metadata": {},
   "outputs": [
    {
     "name": "stdout",
     "output_type": "stream",
     "text": [
      "\n",
      "WT score: -2940.9505527784117\n",
      "\n",
      "N501Y mutated score: -2937.5597148804927\n",
      "\n",
      "N501Y repacked score: -2939.7773111371057\n",
      "\n",
      "\n",
      "Difference in score N501Y (repacked) - WT: 1.1732416413060491\n",
      "Computed ΔΔG of N501Y: 0.2933104103265123\n"
     ]
    }
   ],
   "source": [
    "N501Y_repacked_score = scorefxn(pose_N501Y_repacked)\n",
    "\n",
    "print('\\nWT score: ' + str(WT_score))\n",
    "print('\\nN501Y mutated score: ' + str(N501Y_score))\n",
    "print('\\nN501Y repacked score: ' + str(N501Y_repacked_score))\n",
    "\n",
    "scaling_factor_for_ddG = 4\n",
    "ddG_N501Y = N501Y_repacked_score - WT_score\n",
    "print('\\n\\nDifference in score N501{} (repacked) - WT: '.format(mutation_1_letter) + str(ddG_N501Y))\n",
    "print('Computed ΔΔG of N501{}: '.format(mutation_1_letter) + str(ddG_N501Y/scaling_factor_for_ddG))"
   ]
  },
  {
   "cell_type": "markdown",
   "metadata": {},
   "source": [
    "N501Y_repacked has a score much closer to the WT score, but it is still worse by almost 100 REU (25 kcal/mol).  \n",
    "Experiments suggest that N501Y should have a lower dG than WT, though.  \n",
    "Let's see if I can visualize the repacking, or if pmm.apply(repacked_pose) still isn't communicating with my pymol session:"
   ]
  },
  {
   "cell_type": "code",
   "execution_count": 12,
   "metadata": {},
   "outputs": [],
   "source": [
    "pmm.apply(pose_N501Y_repacked) # I'll have to troubleshoot this later"
   ]
  },
  {
   "cell_type": "markdown",
   "metadata": {},
   "source": [
    "`util.cbaw N501Y_repacked`\n",
    "\n",
    "`select N501Y_repacked_core, N501Y_repacked and br. (sc.  within 3 of (resi 501 and chain F and sc.))`\n",
    "\n",
    "`util.cbac N501Y_repacked_core`\n",
    "\n",
    "`util.cbas N501Y_repacked_core and resi 501 and chain F`\n",
    "\n",
    "`show sticks, N501Y_repacked_core and not hydro`\n",
    "\n",
    "`# show spheres, N501Y_repacked_core and (resi 84 or resi 99) and not (name O or name N)`\n",
    "\n",
    "`set_view (\\\n",
    "     0.737348735,   -0.664588213,   -0.120811388,\\\n",
    "    -0.212751448,   -0.398235619,    0.892252982,\\\n",
    "    -0.641090214,   -0.632204175,   -0.435039639,\\\n",
    "     0.000094488,    0.001106668,  -85.698837280,\\\n",
    "    30.798748016,    4.481562614,    6.916054726,\\\n",
    "    49.036270142,  122.386810303,  -20.000000000 )`\n",
    "\n",
    "`deselect`"
   ]
  },
  {
   "cell_type": "code",
   "execution_count": 13,
   "metadata": {},
   "outputs": [],
   "source": [
    "### Some Notes on FastRelax and FastDesign\n",
    "\n",
    "# FD and FR do the same things, except that FD can change residue type\n",
    "# Simulated annealing in both\n",
    "\n",
    "# If we want to run FastDesign instead, use a FastDesign object\n",
    "# fd = pyrosetta.protocols.etc.etc.FastDesign\n",
    "# fd.set_task_factory(tf)\n",
    "\n",
    "# FastRelax 1) Repacks and 2) Minimizes\n",
    "# Minimize structure after FD with FastRelax\n",
    "# FastRelax takes a MoveMapFactory as well as a TaskFactory"
   ]
  },
  {
   "cell_type": "markdown",
   "metadata": {},
   "source": [
    "Let's see how the WT energy terms compare to the N501Y_repacked ones:"
   ]
  },
  {
   "cell_type": "code",
   "execution_count": 14,
   "metadata": {},
   "outputs": [
    {
     "data": {
      "text/plain": [
       "fa_atr                 5.278839\n",
       "fa_rep                -0.488052\n",
       "fa_sol                -4.017738\n",
       "fa_intra_rep          -0.788877\n",
       "fa_intra_sol_xover4   -0.192984\n",
       "lk_ball_wtd            0.107722\n",
       "fa_elec                0.243044\n",
       "hbond_sr_bb            0.000000\n",
       "hbond_lr_bb            0.000000\n",
       "hbond_bb_sc            0.837584\n",
       "hbond_sc               0.000000\n",
       "dslf_fa13              0.000000\n",
       "omega                  0.000000\n",
       "fa_dun                -1.388051\n",
       "p_aa_pp               -0.760640\n",
       "yhh_planarity          0.000000\n",
       "ref                    1.050570\n",
       "rama_prepro           -0.739496\n",
       "cart_bonded           -0.208242\n",
       "total_score            1.169750\n",
       "dtype: float64"
      ]
     },
     "execution_count": 14,
     "metadata": {},
     "output_type": "execute_result"
    }
   ],
   "source": [
    "energy_table_WT = pyrosetta.bindings.energies.residue_total_energies_array(pose_relaxed.energies())\n",
    "energy_df_WT = pd.DataFrame(energy_table_WT)\n",
    "totals_by_term_WT = energy_df_WT.sum(axis=0)\n",
    "\n",
    "\n",
    "energy_table_N501Y_repacked = pyrosetta.bindings.energies.residue_total_energies_array(pose_N501Y_repacked.energies())\n",
    "energy_df_N501Y_repacked = pd.DataFrame(energy_table_N501Y_repacked)\n",
    "totals_by_term_N501Y_repacked = energy_df_N501Y_repacked.sum(axis=0)\n",
    "\n",
    "totals_by_term_N501Y_repacked - totals_by_term_WT"
   ]
  },
  {
   "cell_type": "markdown",
   "metadata": {},
   "source": [
    "Still, fa_rep is responsible for the difference in REU.  If I knew how to fix the link between this notebook and my pymol session, then I'd probably see a steric clash between Y501 and the rest of the core.  \n",
    "  \n",
    "This shows that repacking was not enough to resolve the clash."
   ]
  },
  {
   "cell_type": "markdown",
   "metadata": {},
   "source": [
    "This suggests that the backbone as it currently is modeled is just not capable of incorporating the large phenyl group. We must therefore introduce changes to the backbone to see if we can create some space. We can do this by adding a minimization step to our repacking. At this point, we are just running a round of relax while restricting repacking to the vicinity around the mutation."
   ]
  },
  {
   "cell_type": "code",
   "execution_count": 15,
   "metadata": {
    "scrolled": true,
    "tags": [
     "output-scroll"
    ]
   },
   "outputs": [
    {
     "name": "stdout",
     "output_type": "stream",
     "text": [
      "\u001b[0mprotocols.relax.RelaxScriptManager: {0} \u001b[0mReading relax scripts list from database.\n",
      "\u001b[0mcore.scoring.ScoreFunctionFactory: {0} \u001b[0mSCOREFUNCTION: \u001b[32mref2015_cart\u001b[0m\n",
      "\u001b[0mprotocols.relax.RelaxScriptManager: {0} \u001b[0mLooking for MonomerRelax2019.txt\n",
      "\u001b[0mprotocols.relax.RelaxScriptManager: {0} \u001b[0m================== Reading script file: /Users/maxinebi/miniconda3/envs/proteindesign/lib/python3.7/site-packages/pyrosetta/database/sampling/relax_scripts/MonomerRelax2019.txt ==================\n",
      "\u001b[0mprotocols.relax.RelaxScriptManager: {0} \u001b[0mrepeat %%nrepeats%%\n",
      "\u001b[0mprotocols.relax.RelaxScriptManager: {0} \u001b[0mcoord_cst_weight 1.0\n",
      "\u001b[0mprotocols.relax.RelaxScriptManager: {0} \u001b[0mscale:fa_rep 0.040\n",
      "\u001b[0mprotocols.relax.RelaxScriptManager: {0} \u001b[0mrepack\n",
      "\u001b[0mprotocols.relax.RelaxScriptManager: {0} \u001b[0mscale:fa_rep 0.051\n",
      "\u001b[0mprotocols.relax.RelaxScriptManager: {0} \u001b[0mmin 0.01\n",
      "\u001b[0mprotocols.relax.RelaxScriptManager: {0} \u001b[0mcoord_cst_weight 0.5\n",
      "\u001b[0mprotocols.relax.RelaxScriptManager: {0} \u001b[0mscale:fa_rep 0.265\n",
      "\u001b[0mprotocols.relax.RelaxScriptManager: {0} \u001b[0mrepack\n",
      "\u001b[0mprotocols.relax.RelaxScriptManager: {0} \u001b[0mscale:fa_rep 0.280\n",
      "\u001b[0mprotocols.relax.RelaxScriptManager: {0} \u001b[0mmin 0.01\n",
      "\u001b[0mprotocols.relax.RelaxScriptManager: {0} \u001b[0mcoord_cst_weight 0.0\n",
      "\u001b[0mprotocols.relax.RelaxScriptManager: {0} \u001b[0mscale:fa_rep 0.559\n",
      "\u001b[0mprotocols.relax.RelaxScriptManager: {0} \u001b[0mrepack\n",
      "\u001b[0mprotocols.relax.RelaxScriptManager: {0} \u001b[0mscale:fa_rep 0.581\n",
      "\u001b[0mprotocols.relax.RelaxScriptManager: {0} \u001b[0mmin 0.01\n",
      "\u001b[0mprotocols.relax.RelaxScriptManager: {0} \u001b[0mcoord_cst_weight 0.0\n",
      "\u001b[0mprotocols.relax.RelaxScriptManager: {0} \u001b[0mscale:fa_rep 1\n",
      "\u001b[0mprotocols.relax.RelaxScriptManager: {0} \u001b[0mrepack\n",
      "\u001b[0mprotocols.relax.RelaxScriptManager: {0} \u001b[0mmin 0.00001\n",
      "\u001b[0mprotocols.relax.RelaxScriptManager: {0} \u001b[0maccept_to_best\n",
      "\u001b[0mprotocols.relax.RelaxScriptManager: {0} \u001b[0mendrepeat\n",
      "\u001b[0mprotocols.relax.FastRelax: {0} \u001b[0mCMD: repeat  -2937.56  0  0  0.55\n",
      "\u001b[0mprotocols.relax.FastRelax: {0} \u001b[0mCMD: coord_cst_weight  -2937.56  0  0  0.55\n",
      "\u001b[0mprotocols.relax.FastRelax: {0} \u001b[0mCMD: scale:fa_rep  -3594.95  0  0  0.022\n",
      "\u001b[0mcore.pack.task: {0} \u001b[0mPacker task: initialize from command line()\n",
      "\u001b[0mcore.pack.pack_rotamers: {0} \u001b[0mbuilt 1825 rotamers at 25 positions.\n",
      "\u001b[0mcore.pack.pack_rotamers: {0} \u001b[0mRequesting all available threads for interaction graph computation.\n",
      "\u001b[0mcore.pack.interaction_graph.interaction_graph_factory: {0} \u001b[0mInstantiating DensePDInteractionGraph\n",
      "\u001b[0mcore.pack.rotamer_set.RotamerSets: {0} \u001b[0mCompleted interaction graph pre-calculation in 1 available threads (1 had been requested).\n",
      "\u001b[0mprotocols.relax.FastRelax: {0} \u001b[0mCMD: repack  -3597.65  0  0  0.022\n",
      "\u001b[0mprotocols.relax.FastRelax: {0} \u001b[0mCMD: scale:fa_rep  -3590.1  0  0  0.02805\n",
      "\u001b[0mcore.pose.util: {0} \u001b[0m\u001b[1m[ WARNING ]\u001b[0m Unable to find atom_tree atom for this Rosetta branch connection angle: residue 324 BRANCH 1\n",
      "\u001b[0mcore.pose.util: {0} \u001b[0m\u001b[1m[ WARNING ]\u001b[0m Unable to find atom_tree atom for this Rosetta branch connection angle: residue 341 BRANCH 1\n",
      "\u001b[0mcore.pose.util: {0} \u001b[0m\u001b[1m[ WARNING ]\u001b[0m Unable to find atom_tree atom for this Rosetta branch connection angle: residue 510 BRANCH 1\n",
      "\u001b[0mcore.pose.util: {0} \u001b[0m\u001b[1m[ WARNING ]\u001b[0m Unable to find atom_tree atom for this Rosetta branch connection angle: residue 522 BRANCH 1\n",
      "\u001b[0mcore.pose.util: {0} \u001b[0m\u001b[1m[ WARNING ]\u001b[0m Unable to find atom_tree atom for this Rosetta branch connection angle: residue 792 BRANCH 1\n",
      "\u001b[0mcore.pose.util: {0} \u001b[0m\u001b[1m[ WARNING ]\u001b[0m Unable to find atom_tree atom for this Rosetta branch connection angle: residue 845 BRANCH 1\n",
      "\u001b[0mcore.pose.util: {0} \u001b[0m\u001b[1m[ WARNING ]\u001b[0m Unable to find atom_tree atom for this Rosetta branch connection angle: residue 893 BRANCH 1\n",
      "\u001b[0mcore.pose.util: {0} \u001b[0m\u001b[1m[ WARNING ]\u001b[0m Unable to find atom_tree atom for this Rosetta branch connection angle: residue 901 BRANCH 1\n",
      "\u001b[0mcore.optimization.Minimizer: {0} \u001b[0m\u001b[1m[ WARNING ]\u001b[0m LBFGS MAX CYCLES 2000 EXCEEDED, BUT FUNC NOT CONVERGED!\n",
      "\u001b[0mprotocols.relax.FastRelax: {0} \u001b[0mCMD: min  -4686.47  1.65818  1.65818  0.02805\n",
      "\u001b[0mprotocols.relax.FastRelax: {0} \u001b[0mCMD: coord_cst_weight  -4686.47  1.65818  1.65818  0.02805\n",
      "\u001b[0mprotocols.relax.FastRelax: {0} \u001b[0mCMD: scale:fa_rep  -2443.9  1.65818  1.65818  0.14575\n",
      "\u001b[0mcore.pack.task: {0} \u001b[0mPacker task: initialize from command line()\n",
      "\u001b[0mcore.pack.pack_rotamers: {0} \u001b[0mbuilt 1359 rotamers at 27 positions.\n",
      "\u001b[0mcore.pack.pack_rotamers: {0} \u001b[0mRequesting all available threads for interaction graph computation.\n",
      "\u001b[0mcore.pack.interaction_graph.interaction_graph_factory: {0} \u001b[0mInstantiating DensePDInteractionGraph\n",
      "\u001b[0mcore.pack.rotamer_set.RotamerSets: {0} \u001b[0mCompleted interaction graph pre-calculation in 1 available threads (1 had been requested).\n",
      "\u001b[0mprotocols.relax.FastRelax: {0} \u001b[0mCMD: repack  -2443.9  1.65818  1.65818  0.14575\n",
      "\u001b[0mprotocols.relax.FastRelax: {0} \u001b[0mCMD: scale:fa_rep  -2286.71  1.65818  1.65818  0.154\n",
      "\u001b[0mcore.pose.util: {0} \u001b[0m\u001b[1m[ WARNING ]\u001b[0m Unable to find atom_tree atom for this Rosetta branch connection angle: residue 324 BRANCH 1\n",
      "\u001b[0mcore.pose.util: {0} \u001b[0m\u001b[1m[ WARNING ]\u001b[0m Unable to find atom_tree atom for this Rosetta branch connection angle: residue 341 BRANCH 1\n",
      "\u001b[0mcore.pose.util: {0} \u001b[0m\u001b[1m[ WARNING ]\u001b[0m Unable to find atom_tree atom for this Rosetta branch connection angle: residue 510 BRANCH 1\n",
      "\u001b[0mcore.pose.util: {0} \u001b[0m\u001b[1m[ WARNING ]\u001b[0m Unable to find atom_tree atom for this Rosetta branch connection angle: residue 522 BRANCH 1\n",
      "\u001b[0mcore.pose.util: {0} \u001b[0m\u001b[1m[ WARNING ]\u001b[0m Unable to find atom_tree atom for this Rosetta branch connection angle: residue 792 BRANCH 1\n",
      "\u001b[0mcore.pose.util: {0} \u001b[0m\u001b[1m[ WARNING ]\u001b[0m Unable to find atom_tree atom for this Rosetta branch connection angle: residue 845 BRANCH 1\n",
      "\u001b[0mcore.pose.util: {0} \u001b[0m\u001b[1m[ WARNING ]\u001b[0m Unable to find atom_tree atom for this Rosetta branch connection angle: residue 893 BRANCH 1\n",
      "\u001b[0mcore.pose.util: {0} \u001b[0m\u001b[1m[ WARNING ]\u001b[0m Unable to find atom_tree atom for this Rosetta branch connection angle: residue 901 BRANCH 1\n",
      "\u001b[0mprotocols.relax.FastRelax: {0} \u001b[0mCMD: min  -3740.43  0.834557  0.834557  0.154\n",
      "\u001b[0mprotocols.relax.FastRelax: {0} \u001b[0mCMD: coord_cst_weight  -3740.43  0.834557  0.834557  0.154\n",
      "\u001b[0mprotocols.relax.FastRelax: {0} \u001b[0mCMD: scale:fa_rep  -3146.53  0.834557  0.834557  0.30745\n",
      "\u001b[0mcore.pack.task: {0} \u001b[0mPacker task: initialize from command line()\n",
      "\u001b[0mcore.pack.pack_rotamers: {0} \u001b[0mbuilt 1249 rotamers at 24 positions.\n",
      "\u001b[0mcore.pack.pack_rotamers: {0} \u001b[0mRequesting all available threads for interaction graph computation.\n",
      "\u001b[0mcore.pack.interaction_graph.interaction_graph_factory: {0} \u001b[0mInstantiating DensePDInteractionGraph\n",
      "\u001b[0mcore.pack.rotamer_set.RotamerSets: {0} \u001b[0mCompleted interaction graph pre-calculation in 1 available threads (1 had been requested).\n",
      "\u001b[0mprotocols.relax.FastRelax: {0} \u001b[0mCMD: repack  -3146.53  0.834557  0.834557  0.30745\n",
      "\u001b[0mprotocols.relax.FastRelax: {0} \u001b[0mCMD: scale:fa_rep  -3099.69  0.834557  0.834557  0.31955\n",
      "\u001b[0mcore.pose.util: {0} \u001b[0m\u001b[1m[ WARNING ]\u001b[0m Unable to find atom_tree atom for this Rosetta branch connection angle: residue 324 BRANCH 1\n",
      "\u001b[0mcore.pose.util: {0} \u001b[0m\u001b[1m[ WARNING ]\u001b[0m Unable to find atom_tree atom for this Rosetta branch connection angle: residue 341 BRANCH 1\n",
      "\u001b[0mcore.pose.util: {0} \u001b[0m\u001b[1m[ WARNING ]\u001b[0m Unable to find atom_tree atom for this Rosetta branch connection angle: residue 510 BRANCH 1\n",
      "\u001b[0mcore.pose.util: {0} \u001b[0m\u001b[1m[ WARNING ]\u001b[0m Unable to find atom_tree atom for this Rosetta branch connection angle: residue 522 BRANCH 1\n",
      "\u001b[0mcore.pose.util: {0} \u001b[0m\u001b[1m[ WARNING ]\u001b[0m Unable to find atom_tree atom for this Rosetta branch connection angle: residue 792 BRANCH 1\n",
      "\u001b[0mcore.pose.util: {0} \u001b[0m\u001b[1m[ WARNING ]\u001b[0m Unable to find atom_tree atom for this Rosetta branch connection angle: residue 845 BRANCH 1\n",
      "\u001b[0mcore.pose.util: {0} \u001b[0m\u001b[1m[ WARNING ]\u001b[0m Unable to find atom_tree atom for this Rosetta branch connection angle: residue 893 BRANCH 1\n",
      "\u001b[0mcore.pose.util: {0} \u001b[0m\u001b[1m[ WARNING ]\u001b[0m Unable to find atom_tree atom for this Rosetta branch connection angle: residue 901 BRANCH 1\n",
      "\u001b[0mcore.optimization.Minimizer: {0} \u001b[0m\u001b[1m[ WARNING ]\u001b[0m LBFGS MAX CYCLES 2000 EXCEEDED, BUT FUNC NOT CONVERGED!\n"
     ]
    },
    {
     "name": "stdout",
     "output_type": "stream",
     "text": [
      "\u001b[0mprotocols.relax.FastRelax: {0} \u001b[0mCMD: min  -3294.1  0.428373  0.428373  0.31955\n",
      "\u001b[0mprotocols.relax.FastRelax: {0} \u001b[0mCMD: coord_cst_weight  -3294.1  0.428373  0.428373  0.31955\n",
      "\u001b[0mprotocols.relax.FastRelax: {0} \u001b[0mCMD: scale:fa_rep  -2831.69  0.428373  0.428373  0.55\n",
      "\u001b[0mcore.pack.task: {0} \u001b[0mPacker task: initialize from command line()\n",
      "\u001b[0mcore.pack.pack_rotamers: {0} \u001b[0mbuilt 1092 rotamers at 23 positions.\n",
      "\u001b[0mcore.pack.pack_rotamers: {0} \u001b[0mRequesting all available threads for interaction graph computation.\n",
      "\u001b[0mcore.pack.interaction_graph.interaction_graph_factory: {0} \u001b[0mInstantiating DensePDInteractionGraph\n",
      "\u001b[0mcore.pack.rotamer_set.RotamerSets: {0} \u001b[0mCompleted interaction graph pre-calculation in 1 available threads (1 had been requested).\n",
      "\u001b[0mprotocols.relax.FastRelax: {0} \u001b[0mCMD: repack  -2831.69  0.428373  0.428373  0.55\n",
      "\u001b[0mcore.pose.util: {0} \u001b[0m\u001b[1m[ WARNING ]\u001b[0m Unable to find atom_tree atom for this Rosetta branch connection angle: residue 324 BRANCH 1\n",
      "\u001b[0mcore.pose.util: {0} \u001b[0m\u001b[1m[ WARNING ]\u001b[0m Unable to find atom_tree atom for this Rosetta branch connection angle: residue 341 BRANCH 1\n",
      "\u001b[0mcore.pose.util: {0} \u001b[0m\u001b[1m[ WARNING ]\u001b[0m Unable to find atom_tree atom for this Rosetta branch connection angle: residue 510 BRANCH 1\n",
      "\u001b[0mcore.pose.util: {0} \u001b[0m\u001b[1m[ WARNING ]\u001b[0m Unable to find atom_tree atom for this Rosetta branch connection angle: residue 522 BRANCH 1\n",
      "\u001b[0mcore.pose.util: {0} \u001b[0m\u001b[1m[ WARNING ]\u001b[0m Unable to find atom_tree atom for this Rosetta branch connection angle: residue 792 BRANCH 1\n",
      "\u001b[0mcore.pose.util: {0} \u001b[0m\u001b[1m[ WARNING ]\u001b[0m Unable to find atom_tree atom for this Rosetta branch connection angle: residue 845 BRANCH 1\n",
      "\u001b[0mcore.pose.util: {0} \u001b[0m\u001b[1m[ WARNING ]\u001b[0m Unable to find atom_tree atom for this Rosetta branch connection angle: residue 893 BRANCH 1\n",
      "\u001b[0mcore.pose.util: {0} \u001b[0m\u001b[1m[ WARNING ]\u001b[0m Unable to find atom_tree atom for this Rosetta branch connection angle: residue 901 BRANCH 1\n",
      "\u001b[0mcore.optimization.Minimizer: {0} \u001b[0m\u001b[1m[ WARNING ]\u001b[0m LBFGS MAX CYCLES 2000 EXCEEDED, BUT FUNC NOT CONVERGED!\n",
      "\u001b[0mprotocols.relax.FastRelax: {0} \u001b[0mCMD: min  -2938.38  0.337687  0.337687  0.55\n",
      "\u001b[0mprotocols.relax.FastRelax: {0} \u001b[0mMRP: 0  -2938.38  -2938.38  0.337687  0.337687\n",
      "\u001b[0mprotocols.relax.FastRelax: {0} \u001b[0mCMD: accept_to_best  -2938.38  0.337687  0.337687  0.55\n",
      "\u001b[0mprotocols.relax.FastRelax: {0} \u001b[0mCMD: endrepeat  -2938.38  0.337687  0.337687  0.55\n",
      "\u001b[0mprotocols::checkpoint: {0} \u001b[0mDeleting checkpoints of FastRelax\n"
     ]
    },
    {
     "data": {
      "text/plain": [
       "True"
      ]
     },
     "execution_count": 15,
     "metadata": {},
     "output_type": "execute_result"
    }
   ],
   "source": [
    "# Create movemap factory\n",
    "mmf = pyrosetta.rosetta.core.select.movemap.MoveMapFactory()\n",
    "mmf.all_bb(setting=True)\n",
    "mmf.all_bondangles(setting=True)\n",
    "mmf.all_bondlengths(setting=True)\n",
    "mmf.all_chi(setting=True)\n",
    "mmf.all_jumps(setting=True)\n",
    "mmf.set_cartesian(setting=True)\n",
    "\n",
    "# Make fastrelax protocol\n",
    "fr = pyrosetta.rosetta.protocols.relax.FastRelax(standard_repeats=1)\n",
    "fr.set_scorefxn(scorefxn)\n",
    "fr.set_task_factory(tf)\n",
    "fr.set_movemap_factory(mmf)\n",
    "fr.cartesian(True)\n",
    "fr.min_type(\"lbfgs_armijo_nonmonotone\")\n",
    "\n",
    "pose_N501Y_relaxed = pose_N501Y.clone()\n",
    "pose_N501Y_relaxed.pdb_info().name('N501Y_relaxed')\n",
    "\n",
    "fr.apply(pose_N501Y_relaxed)\n",
    "\n",
    "\n",
    "\n",
    "pose_N501Y_relaxed.dump_pdb('6M17_N501{}_relaxed.pdb'.format(mutation_1_letter))\n",
    "# pose_N501Y_relaxed.dump_pdb('6M17_N501Y_relaxed.pdb')"
   ]
  },
  {
   "cell_type": "code",
   "execution_count": 16,
   "metadata": {},
   "outputs": [
    {
     "name": "stdout",
     "output_type": "stream",
     "text": [
      "\n",
      "WT score: -2940.9505527784117\n",
      "\n",
      "N501Y mutated score: -2937.5597148804927\n",
      "\n",
      "N501Y repacked score: -2939.7773111371057\n",
      "\n",
      "N501Y relaxed score: -2938.3849332029317\n",
      "\n",
      "\n",
      "Difference in score N501Y (relaxed) - WT: 2.5656195754800137\n",
      "Computed ΔΔG of N501Y: 0.6414048938700034\n"
     ]
    }
   ],
   "source": [
    "N501Y_relaxed_score = scorefxn(pose_N501Y_relaxed)\n",
    "print('\\nWT score: ' + str(WT_score))\n",
    "print('\\nN501Y mutated score: ' + str(N501Y_score))\n",
    "print('\\nN501Y repacked score: ' + str(N501Y_repacked_score))\n",
    "print('\\nN501Y relaxed score: ' + str(N501Y_relaxed_score))\n",
    "\n",
    "ddG_N501Y = N501Y_relaxed_score - WT_score\n",
    "print('\\n\\nDifference in score N501Y (relaxed) - WT: ' + str(ddG_N501Y))\n",
    "print('Computed ΔΔG of N501Y: ' + str(ddG_N501Y/scaling_factor_for_ddG))"
   ]
  },
  {
   "cell_type": "markdown",
   "metadata": {},
   "source": [
    "#### Now, our ddG of N501Y is only 1.47 kcal/mol. \n",
    "We may be able to get closer to the \"true\" native state of N501Y with additional and/or longer rounds of relax, as the increased sampling of backbones may find one even better suited for the mutation."
   ]
  },
  {
   "cell_type": "markdown",
   "metadata": {},
   "source": [
    "# Next, do this same pipeline for every other natural mutation"
   ]
  },
  {
   "cell_type": "markdown",
   "metadata": {},
   "source": [
    "Let's look at our new structure.\n",
    "\n",
    "`util.cbaw N501Y_relaxed`\n",
    "\n",
    "`select N501Y_relaxed_core, N501Y_relaxed and br. (sc.  within 3 of (resi 501 and chain F and sc.))`\n",
    "\n",
    "`util.cbac N501Y_relaxed_core`\n",
    "\n",
    "`util.cbas N501Y_relaxed_core and resi 501 and chain F`\n",
    "\n",
    "`show sticks, N501Y_relaxed_core and not hydro`\n",
    "\n",
    "`# show spheres, N501Y_relaxed_core and (resi 84 or resi 99) and not (name O or name N)`\n",
    "\n",
    "`set_view (\\\n",
    "     0.737348735,   -0.664588213,   -0.120811388,\\\n",
    "    -0.212751448,   -0.398235619,    0.892252982,\\\n",
    "    -0.641090214,   -0.632204175,   -0.435039639,\\\n",
    "     0.000094488,    0.001106668,  -85.698837280,\\\n",
    "    30.798748016,    4.481562614,    6.916054726,\\\n",
    "    49.036270142,  122.386810303,  -20.000000000 )`\n",
    "\n",
    "`deselect`"
   ]
  },
  {
   "cell_type": "code",
   "execution_count": null,
   "metadata": {},
   "outputs": [],
   "source": []
  },
  {
   "cell_type": "markdown",
   "metadata": {},
   "source": [
    "# Results:\n",
    "\n",
    "    - WT score: -2940.9505527784117\n",
    "\n",
    "    - N501Y (TYR):\n",
    "    \n",
    "    N501Y mutated score: -2516.6114822687923\n",
    "\n",
    "    N501Y repacked score: -2863.5183805805577\n",
    "\n",
    "    N501Y relaxed score: -2935.049367261897\n",
    "    \n",
    "    - N501F (PHE):\n",
    "    \n",
    "    N501F mutated score: -2604.0158374597745\n",
    "\n",
    "    N501F repacked score: -2803.2183208609313\n",
    "\n",
    "    N501F relaxed score: -2934.2859407163996\n",
    "    \n",
    "    - N501W (TRP):\n",
    "    \n",
    "    N501W mutated score: -2112.8508010677433\n",
    "\n",
    "    N501W repacked score: -2683.745897282113\n",
    "\n",
    "    N501W relaxed score: -2933.9211385087747\n",
    "    \n",
    "    - N501V (VAL):\n",
    "    \n",
    "    N501V mutated score: -2871.507017266515\n",
    "\n",
    "    N501V repacked score: -2889.545018445958\n",
    "\n",
    "    N501V relaxed score: -2938.723241358529\n",
    "    \n",
    "    - N501M (MET):\n",
    "    \n",
    "    N501M mutated score: -2812.4625176081736\n",
    "\n",
    "    N501M repacked score: -2920.2388943742326\n",
    "\n",
    "    N501M relaxed score: -2943.9243932016493\n",
    "    \n",
    "    -N501S (SER)\n",
    "    \n",
    "    WT score: -2940.9505527784117\n",
    "\n",
    "    N501Y mutated score: -2937.5597148804927\n",
    "\n",
    "    N501Y repacked score: -2939.7773111371057\n",
    "\n",
    "    N501Y relaxed score: -2938.3849332029317\n",
    "\n",
    "    Difference in score N501Y (relaxed) - WT: 2.5656195754800137\n",
    "    Computed ΔΔG of N501Y: 0.6414048938700034\n",
    "    \n",
    "    \n",
    "    \n"
   ]
  },
  {
   "cell_type": "code",
   "execution_count": null,
   "metadata": {},
   "outputs": [],
   "source": []
  },
  {
   "cell_type": "code",
   "execution_count": null,
   "metadata": {},
   "outputs": [],
   "source": []
  },
  {
   "cell_type": "code",
   "execution_count": 17,
   "metadata": {},
   "outputs": [],
   "source": [
    "pmm.apply(pose_N501Y_relaxed)"
   ]
  },
  {
   "cell_type": "code",
   "execution_count": null,
   "metadata": {},
   "outputs": [],
   "source": []
  }
 ],
 "metadata": {
  "kernelspec": {
   "display_name": "Python 3",
   "language": "python",
   "name": "python3"
  },
  "language_info": {
   "codemirror_mode": {
    "name": "ipython",
    "version": 3
   },
   "file_extension": ".py",
   "mimetype": "text/x-python",
   "name": "python",
   "nbconvert_exporter": "python",
   "pygments_lexer": "ipython3",
   "version": "3.7.9"
  },
  "metadata": {
   "interpreter": {
    "hash": "3a8b7913d7a328e6e21408c15a7acdc4794d544c472a1ddf24ff6f6148c0256f"
   }
  }
 },
 "nbformat": 4,
 "nbformat_minor": 4
}
